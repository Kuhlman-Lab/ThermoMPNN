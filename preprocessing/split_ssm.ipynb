{
 "cells": [
  {
   "cell_type": "code",
   "execution_count": 1,
   "id": "24ab93df-4344-4a75-b475-12decc29ab4e",
   "metadata": {
    "ExecuteTime": {
     "end_time": "2023-09-11T18:09:14.475460595Z",
     "start_time": "2023-09-11T18:09:14.026481796Z"
    }
   },
   "outputs": [],
   "source": [
    "import pandas as pd\n",
    "import pickle\n",
    "from numpy import random\n",
    "import os"
   ]
  },
  {
   "cell_type": "code",
   "execution_count": 2,
   "id": "14e549a3-d701-418d-9a70-479c5baf1c00",
   "metadata": {
    "ExecuteTime": {
     "end_time": "2023-09-11T18:09:16.948219428Z",
     "start_time": "2023-09-11T18:09:14.466875428Z"
    }
   },
   "outputs": [],
   "source": [
    "f=\"/nas/longleaf/home/oem/Kuhlman-Rotation/ThermoMPNN/ssm_preproc.csv\"\n",
    "\n",
    "df=pd.read_csv(f)"
   ]
  },
  {
   "cell_type": "code",
   "execution_count": 3,
   "id": "dede3722-fd3e-4eb0-b73e-13dc5e547b1d",
   "metadata": {
    "ExecuteTime": {
     "end_time": "2023-09-11T18:09:18.857325279Z",
     "start_time": "2023-09-11T18:09:16.949158380Z"
    }
   },
   "outputs": [],
   "source": [
    "\n",
    "# Put binder sequences into fasta for clustering\n",
    "from Bio import SeqIO\n",
    "from Bio.Seq import Seq\n",
    "\n",
    "records = {}\n",
    "for r in df.to_records():\n",
    "    name = r.ssm_parent\n",
    "    if name not in records:\n",
    "        records[name] = SeqIO.SeqRecord(Seq(r.binder_seq.replace('X', '-')), id=name, name=name, description='')"
   ]
  },
  {
   "cell_type": "code",
   "execution_count": 4,
   "id": "28c0f45c-c855-42e3-8436-a6cf0eb05cfb",
   "metadata": {
    "ExecuteTime": {
     "end_time": "2023-09-11T18:09:18.891714901Z",
     "start_time": "2023-09-11T18:09:18.857863403Z"
    }
   },
   "outputs": [],
   "source": [
    "with open(\"../dataset_splits/ssm_fasta.fasta\", 'w') as outFile:\n",
    "    SeqIO.write(list(records.values()), outFile, 'fasta')\n",
    "\n",
    "# !mmseqs2 easy-cluster ../data/fireprot/fireprot_proteins.fasta ../data/fireprot/fireprot_proteins ../data/fireprot/tmp --min-seq-id 0.25"
   ]
  },
  {
   "cell_type": "code",
   "execution_count": 5,
   "id": "7737ae33-f3b1-4586-bb96-71c7fdc60d7c",
   "metadata": {
    "ExecuteTime": {
     "end_time": "2023-09-11T18:09:18.899056248Z",
     "start_time": "2023-09-11T18:09:18.892798443Z"
    }
   },
   "outputs": [],
   "source": [
    "clust = pd.read_csv(\"/nas/longleaf/home/oem/Kuhlman-Rotation/ssm_dataset/fasta-clusters/_cluster.tsv\", sep=\"\\t\", header=None, names=['cluster', 'member'])\n"
   ]
  },
  {
   "cell_type": "code",
   "execution_count": 6,
   "id": "4f88e12c-5a01-46c5-b152-68b5e7e2895c",
   "metadata": {
    "ExecuteTime": {
     "end_time": "2023-09-11T18:09:18.902449369Z",
     "start_time": "2023-09-11T18:09:18.899296577Z"
    }
   },
   "outputs": [],
   "source": [
    "vcs = clust.cluster.value_counts()\n",
    "cs = clust.cluster.unique()"
   ]
  },
  {
   "cell_type": "code",
   "execution_count": 7,
   "id": "204a4f41-a6ac-4923-80c4-0d6a5aa7567f",
   "metadata": {
    "ExecuteTime": {
     "end_time": "2023-09-11T18:09:18.959810841Z",
     "start_time": "2023-09-11T18:09:18.903617017Z"
    }
   },
   "outputs": [
    {
     "data": {
      "text/plain": [
       "(326131, 26)"
      ]
     },
     "execution_count": 7,
     "metadata": {},
     "output_type": "execute_result"
    }
   ],
   "source": [
    "# Merge the cluster_id onto the main dataframe\n",
    "\n",
    "df.to_csv(\"/nas/longleaf/home/oem/Kuhlman-Rotation/ssm_dataset/splits/ssm_all.csv\")\n",
    "df = df.merge(clust, left_on='ssm_parent', right_on='member', how='left')\n",
    "df.shape"
   ]
  },
  {
   "cell_type": "code",
   "execution_count": 8,
   "id": "db282d3a-c607-4c79-bfd4-89227b20503f",
   "metadata": {
    "ExecuteTime": {
     "end_time": "2023-09-11T18:09:18.998835861Z",
     "start_time": "2023-09-11T18:09:18.960657140Z"
    }
   },
   "outputs": [],
   "source": [
    "# Generate splits (80/10/10)\n",
    "\n",
    "random.seed(0)\n",
    "\n",
    "# Get a column on unique clusters\n",
    "clusters = pd.DataFrame({'cluster': df.cluster.unique()})\n",
    "\n",
    "# Make the training dataset\n",
    "train_clust = clusters.sample(frac=0.80)\n",
    "\n",
    "# Get the clusters that did not end up in the training set\n",
    "not_in_train = train_clust.merge(clusters, how='right', indicator=True, on='cluster')\n",
    "not_in_train = not_in_train[not_in_train['_merge'] == 'right_only']\n",
    "not_in_train = not_in_train.drop(columns='_merge')\n",
    "\n",
    "# Sample from the remaining clusters \n",
    "test_clust = not_in_train.sample(frac=0.5)\n",
    "\n",
    "# Get the remaining clusters, they are the validation set\n",
    "val_clust = test_clust.merge(not_in_train, how='right', indicator=True, on='cluster')\n",
    "val_clust = val_clust[val_clust['_merge'] == 'right_only']\n",
    "val_clust = val_clust.drop(columns='_merge')"
   ]
  },
  {
   "cell_type": "code",
   "execution_count": 9,
   "id": "6ec155e5-4522-4698-9200-347effa24fc4",
   "metadata": {
    "ExecuteTime": {
     "end_time": "2023-09-11T18:09:19.158805884Z",
     "start_time": "2023-09-11T18:09:19.018165295Z"
    }
   },
   "outputs": [
    {
     "name": "stdout",
     "output_type": "stream",
     "text": [
      "Training Dataset Size:\t(272757, 26)\n",
      "Test Dataset Size:\t(21266, 26)\n",
      "Validation Dataset Size:\t(32108, 26)\n",
      "\n",
      "True\n"
     ]
    }
   ],
   "source": [
    "# Now we can merge the actual data onto the cluster groups\n",
    "train_df = train_clust.merge(df, on='cluster', how='inner')\n",
    "test_df = test_clust.merge(df, on='cluster', how='inner')\n",
    "val_df = val_clust.merge(df, on='cluster', how='inner')\n",
    "\n",
    "# Dataset Sizes\n",
    "print(f\"Training Dataset Size:\\t{train_df.shape}\")\n",
    "print(f\"Test Dataset Size:\\t{test_df.shape}\")\n",
    "print(f\"Validation Dataset Size:\\t{val_df.shape}\")\n",
    "print()\n",
    "\n",
    "# If everything worked properly this should evaluate to True\n",
    "print(train_df.shape[0] + test_df.shape[0] + val_df.shape[0] == df.shape[0])"
   ]
  },
  {
   "cell_type": "code",
   "execution_count": 10,
   "id": "5797cef5-a429-43df-9367-3c63b5f3d579",
   "metadata": {
    "ExecuteTime": {
     "end_time": "2023-09-11T18:09:19.192330773Z",
     "start_time": "2023-09-11T18:09:19.164242047Z"
    }
   },
   "outputs": [],
   "source": [
    "train_names = train_df.ssm_parent.unique()\n",
    "test_names = test_df.ssm_parent.unique()\n",
    "val_names = val_df.ssm_parent.unique()"
   ]
  },
  {
   "cell_type": "code",
   "execution_count": 11,
   "id": "7c8de8a3-1285-4df3-83ea-5ef1a0e8c9be",
   "metadata": {
    "ExecuteTime": {
     "end_time": "2023-09-11T18:09:19.197190520Z",
     "start_time": "2023-09-11T18:09:19.193855628Z"
    }
   },
   "outputs": [],
   "source": [
    "splits = {\n",
    "    'train': train_names,\n",
    "    'val': val_names,\n",
    "    'test': test_names\n",
    "}\n",
    "\n",
    "with open(\"/nas/longleaf/home/oem/Kuhlman-Rotation/ssm_dataset/splits/ssm_splits.pkl\", \"wb\") as fh:\n",
    "    pickle.dump(splits, fh)"
   ]
  },
  {
   "cell_type": "code",
   "execution_count": 12,
   "id": "bfb67ee5-a8ad-43e2-9673-c208a209c7bc",
   "metadata": {
    "ExecuteTime": {
     "end_time": "2023-09-11T18:09:25.261757804Z",
     "start_time": "2023-09-11T18:09:19.198012754Z"
    }
   },
   "outputs": [],
   "source": [
    "train_df.to_csv(\"/nas/longleaf/home/oem/Kuhlman-Rotation/ssm_dataset/splits/ssm_train.csv\")\n",
    "test_df.to_csv(\"/nas/longleaf/home/oem/Kuhlman-Rotation/ssm_dataset/splits/ssm_test.csv\")\n",
    "val_df.to_csv(\"/nas/longleaf/home/oem/Kuhlman-Rotation/ssm_dataset/splits/ssm_val.csv\")"
   ]
  },
  {
   "cell_type": "code",
   "execution_count": 13,
   "id": "b5831faf-3b7c-4dbe-8571-dac9ef0fe4fd",
   "metadata": {
    "ExecuteTime": {
     "end_time": "2023-09-11T18:09:25.264219277Z",
     "start_time": "2023-09-11T18:09:25.260844671Z"
    }
   },
   "outputs": [],
   "source": [
    "split_binder_names = {\n",
    "    \"train\": [],\n",
    "    \"val\": [],\n",
    "    \"test\": [],\n",
    "    \"all\":[]\n",
    "}\n",
    "\n",
    "wt_binder_seqs = {}\n",
    "mut_rows = {}\n",
    "\n",
    "split = 'test'\n",
    "\n",
    "if split == 'all':\n",
    "    all_names = list(splits.values())\n",
    "    all_names = [j for sub in all_names for j in sub]\n",
    "    split_binder_names[split] = all_names\n",
    "else:\n",
    "    split_binder_names[split] = splits[split]\n",
    "\n",
    "# print(all_names)\n"
   ]
  },
  {
   "cell_type": "code",
   "execution_count": 14,
   "id": "fba64078-b3bb-4487-b156-446ca44a75bd",
   "metadata": {
    "ExecuteTime": {
     "end_time": "2023-09-11T18:09:25.269377641Z",
     "start_time": "2023-09-11T18:09:25.264654779Z"
    }
   },
   "outputs": [],
   "source": [
    "wt_binder_names = split_binder_names[split]"
   ]
  },
  {
   "cell_type": "code",
   "execution_count": 15,
   "id": "ae9c63eb-6d96-449f-9d2f-0c197e332cf0",
   "metadata": {
    "ExecuteTime": {
     "end_time": "2023-09-11T18:09:25.333828610Z",
     "start_time": "2023-09-11T18:09:25.270399077Z"
    }
   },
   "outputs": [],
   "source": [
    "test = df[df['sketch_kd'] == False]"
   ]
  },
  {
   "cell_type": "code",
   "execution_count": 16,
   "id": "55444aa1-e0e3-46c2-884d-78de01fdb83c",
   "metadata": {
    "ExecuteTime": {
     "end_time": "2023-09-11T18:09:25.377540315Z",
     "start_time": "2023-09-11T18:09:25.335292712Z"
    }
   },
   "outputs": [
    {
     "data": {
      "text/plain": [
       "(319528, 26)"
      ]
     },
     "execution_count": 16,
     "metadata": {},
     "output_type": "execute_result"
    }
   ],
   "source": [
    "test.shape\n"
   ]
  },
  {
   "cell_type": "code",
   "execution_count": 17,
   "id": "15d3d9f8-1a0a-4762-b0be-b8e3997d3bbd",
   "metadata": {
    "ExecuteTime": {
     "end_time": "2023-09-11T18:09:25.378198353Z",
     "start_time": "2023-09-11T18:09:25.377334451Z"
    }
   },
   "outputs": [
    {
     "data": {
      "text/plain": [
       "(326131, 26)"
      ]
     },
     "execution_count": 17,
     "metadata": {},
     "output_type": "execute_result"
    }
   ],
   "source": [
    "df.shape"
   ]
  },
  {
   "cell_type": "code",
   "execution_count": 18,
   "id": "0cfc49c8-1b58-48d9-9657-0ebc144065d4",
   "metadata": {
    "ExecuteTime": {
     "end_time": "2023-09-11T18:09:25.379152463Z",
     "start_time": "2023-09-11T18:09:25.377745187Z"
    }
   },
   "outputs": [
    {
     "data": {
      "text/plain": [
       "6603"
      ]
     },
     "execution_count": 18,
     "metadata": {},
     "output_type": "execute_result"
    }
   ],
   "source": [
    "df.shape[0] - test.shape[0]"
   ]
  }
 ],
 "metadata": {
  "kernelspec": {
   "display_name": "Python 3 (ipykernel)",
   "language": "python",
   "name": "python3"
  },
  "language_info": {
   "codemirror_mode": {
    "name": "ipython",
    "version": 3
   },
   "file_extension": ".py",
   "mimetype": "text/x-python",
   "name": "python",
   "nbconvert_exporter": "python",
   "pygments_lexer": "ipython3",
   "version": "3.10.0"
  }
 },
 "nbformat": 4,
 "nbformat_minor": 5
}
