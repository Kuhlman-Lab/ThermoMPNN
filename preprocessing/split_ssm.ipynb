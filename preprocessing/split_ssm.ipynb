{
 "cells": [
  {
   "cell_type": "code",
   "execution_count": 15,
   "id": "24ab93df-4344-4a75-b475-12decc29ab4e",
   "metadata": {
    "ExecuteTime": {
     "end_time": "2023-09-11T18:09:14.475460595Z",
     "start_time": "2023-09-11T18:09:14.026481796Z"
    }
   },
   "outputs": [],
   "source": [
    "import pandas as pd\n",
    "import pickle\n",
    "from numpy import random\n",
    "import os"
   ]
  },
  {
   "cell_type": "code",
   "execution_count": 18,
   "id": "14e549a3-d701-418d-9a70-479c5baf1c00",
   "metadata": {
    "ExecuteTime": {
     "end_time": "2023-09-11T18:09:16.948219428Z",
     "start_time": "2023-09-11T18:09:14.466875428Z"
    }
   },
   "outputs": [],
   "source": [
    "f=\"/nas/longleaf/home/oem/Kuhlman-Rotation/ssm_dataset/ssm_proc.csv\"\n",
    "\n",
    "df=pd.read_csv(f)"
   ]
  },
  {
   "cell_type": "code",
   "execution_count": 19,
   "id": "dede3722-fd3e-4eb0-b73e-13dc5e547b1d",
   "metadata": {
    "ExecuteTime": {
     "end_time": "2023-09-11T18:09:18.857325279Z",
     "start_time": "2023-09-11T18:09:16.949158380Z"
    }
   },
   "outputs": [],
   "source": [
    "\n",
    "# Put binder sequences into fasta for clustering\n",
    "from Bio import SeqIO\n",
    "from Bio.Seq import Seq\n",
    "\n",
    "records = {}\n",
    "for r in df.to_records():\n",
    "    name = r.ssm_parent\n",
    "    if name not in records:\n",
    "        records[name] = SeqIO.SeqRecord(Seq(r.binder_seq.replace('X', '-')), id=name, name=name, description='')"
   ]
  },
  {
   "cell_type": "code",
   "execution_count": 20,
   "id": "28c0f45c-c855-42e3-8436-a6cf0eb05cfb",
   "metadata": {
    "ExecuteTime": {
     "end_time": "2023-09-11T18:09:18.891714901Z",
     "start_time": "2023-09-11T18:09:18.857863403Z"
    }
   },
   "outputs": [
    {
     "ename": "FileNotFoundError",
     "evalue": "[Errno 2] No such file or directory: '../dataset_splits/ssm_fasta.fasta'",
     "output_type": "error",
     "traceback": [
      "\u001b[0;31m---------------------------------------------------------------------------\u001b[0m",
      "\u001b[0;31mFileNotFoundError\u001b[0m                         Traceback (most recent call last)",
      "\u001b[1;32m/nas/longleaf/home/oem/Kuhlman-Rotation/ThermoMPNN/preprocessing/split_ssm.ipynb Cell 4\u001b[0m line \u001b[0;36m1\n\u001b[0;32m----> <a href='vscode-notebook-cell://ssh-remote%2Blongleaf.unc.edu/nas/longleaf/home/oem/Kuhlman-Rotation/ThermoMPNN/preprocessing/split_ssm.ipynb#W3sdnNjb2RlLXJlbW90ZQ%3D%3D?line=0'>1</a>\u001b[0m \u001b[39mwith\u001b[39;00m \u001b[39mopen\u001b[39;49m(\u001b[39m\"\u001b[39;49m\u001b[39m../dataset_splits/ssm_fasta.fasta\u001b[39;49m\u001b[39m\"\u001b[39;49m, \u001b[39m'\u001b[39;49m\u001b[39mw\u001b[39;49m\u001b[39m'\u001b[39;49m) \u001b[39mas\u001b[39;00m outFile:\n\u001b[1;32m      <a href='vscode-notebook-cell://ssh-remote%2Blongleaf.unc.edu/nas/longleaf/home/oem/Kuhlman-Rotation/ThermoMPNN/preprocessing/split_ssm.ipynb#W3sdnNjb2RlLXJlbW90ZQ%3D%3D?line=1'>2</a>\u001b[0m     SeqIO\u001b[39m.\u001b[39mwrite(\u001b[39mlist\u001b[39m(records\u001b[39m.\u001b[39mvalues()), outFile, \u001b[39m'\u001b[39m\u001b[39mfasta\u001b[39m\u001b[39m'\u001b[39m)\n\u001b[1;32m      <a href='vscode-notebook-cell://ssh-remote%2Blongleaf.unc.edu/nas/longleaf/home/oem/Kuhlman-Rotation/ThermoMPNN/preprocessing/split_ssm.ipynb#W3sdnNjb2RlLXJlbW90ZQ%3D%3D?line=3'>4</a>\u001b[0m \u001b[39m# !mmseqs2 easy-cluster ../data/fireprot/fireprot_proteins.fasta ../data/fireprot/fireprot_proteins ../data/fireprot/tmp --min-seq-id 0.25\u001b[39;00m\n",
      "File \u001b[0;32m~/.virtualenvs/ThermoMPNN/lib/python3.10/site-packages/IPython/core/interactiveshell.py:286\u001b[0m, in \u001b[0;36m_modified_open\u001b[0;34m(file, *args, **kwargs)\u001b[0m\n\u001b[1;32m    279\u001b[0m \u001b[39mif\u001b[39;00m file \u001b[39min\u001b[39;00m {\u001b[39m0\u001b[39m, \u001b[39m1\u001b[39m, \u001b[39m2\u001b[39m}:\n\u001b[1;32m    280\u001b[0m     \u001b[39mraise\u001b[39;00m \u001b[39mValueError\u001b[39;00m(\n\u001b[1;32m    281\u001b[0m         \u001b[39mf\u001b[39m\u001b[39m\"\u001b[39m\u001b[39mIPython won\u001b[39m\u001b[39m'\u001b[39m\u001b[39mt let you open fd=\u001b[39m\u001b[39m{\u001b[39;00mfile\u001b[39m}\u001b[39;00m\u001b[39m by default \u001b[39m\u001b[39m\"\u001b[39m\n\u001b[1;32m    282\u001b[0m         \u001b[39m\"\u001b[39m\u001b[39mas it is likely to crash IPython. If you know what you are doing, \u001b[39m\u001b[39m\"\u001b[39m\n\u001b[1;32m    283\u001b[0m         \u001b[39m\"\u001b[39m\u001b[39myou can use builtins\u001b[39m\u001b[39m'\u001b[39m\u001b[39m open.\u001b[39m\u001b[39m\"\u001b[39m\n\u001b[1;32m    284\u001b[0m     )\n\u001b[0;32m--> 286\u001b[0m \u001b[39mreturn\u001b[39;00m io_open(file, \u001b[39m*\u001b[39;49margs, \u001b[39m*\u001b[39;49m\u001b[39m*\u001b[39;49mkwargs)\n",
      "\u001b[0;31mFileNotFoundError\u001b[0m: [Errno 2] No such file or directory: '../dataset_splits/ssm_fasta.fasta'"
     ]
    }
   ],
   "source": [
    "with open(\"../dataset_splits/ssm_fasta.fasta\", 'w') as outFile:\n",
    "    SeqIO.write(list(records.values()), outFile, 'fasta')\n",
    "\n",
    "# !mmseqs2 easy-cluster ../data/fireprot/fireprot_proteins.fasta ../data/fireprot/fireprot_proteins ../data/fireprot/tmp --min-seq-id 0.25"
   ]
  },
  {
   "cell_type": "code",
   "execution_count": 21,
   "id": "7737ae33-f3b1-4586-bb96-71c7fdc60d7c",
   "metadata": {
    "ExecuteTime": {
     "end_time": "2023-09-11T18:09:18.899056248Z",
     "start_time": "2023-09-11T18:09:18.892798443Z"
    }
   },
   "outputs": [],
   "source": [
    "clust = pd.read_csv(\"/nas/longleaf/home/oem/Kuhlman-Rotation/ssm_dataset/fasta-clusters/_cluster.tsv\", sep=\"\\t\", header=None, names=['cluster', 'member'])\n"
   ]
  },
  {
   "cell_type": "code",
   "execution_count": 22,
   "id": "4f88e12c-5a01-46c5-b152-68b5e7e2895c",
   "metadata": {
    "ExecuteTime": {
     "end_time": "2023-09-11T18:09:18.902449369Z",
     "start_time": "2023-09-11T18:09:18.899296577Z"
    }
   },
   "outputs": [],
   "source": [
    "vcs = clust.cluster.value_counts()\n",
    "cs = clust.cluster.unique()"
   ]
  },
  {
   "cell_type": "code",
   "execution_count": 23,
   "id": "204a4f41-a6ac-4923-80c4-0d6a5aa7567f",
   "metadata": {
    "ExecuteTime": {
     "end_time": "2023-09-11T18:09:18.959810841Z",
     "start_time": "2023-09-11T18:09:18.903617017Z"
    }
   },
   "outputs": [
    {
     "data": {
      "text/plain": [
       "(302571, 32)"
      ]
     },
     "execution_count": 23,
     "metadata": {},
     "output_type": "execute_result"
    }
   ],
   "source": [
    "# Merge the cluster_id onto the main dataframe\n",
    "\n",
    "df.to_csv(\"/nas/longleaf/home/oem/Kuhlman-Rotation/ssm_dataset/splits/ssm_all.csv\")\n",
    "df = df.merge(clust, left_on='ssm_parent', right_on='member', how='left')\n",
    "df.shape"
   ]
  },
  {
   "cell_type": "code",
   "execution_count": 24,
   "id": "db282d3a-c607-4c79-bfd4-89227b20503f",
   "metadata": {
    "ExecuteTime": {
     "end_time": "2023-09-11T18:09:18.998835861Z",
     "start_time": "2023-09-11T18:09:18.960657140Z"
    }
   },
   "outputs": [],
   "source": [
    "# Generate splits (80/10/10)\n",
    "\n",
    "random.seed(0)\n",
    "\n",
    "# Get a column on unique clusters\n",
    "clusters = pd.DataFrame({'cluster': df.cluster.unique()})\n",
    "\n",
    "# Make the training dataset\n",
    "train_clust = clusters.sample(frac=0.80)\n",
    "\n",
    "# Get the clusters that did not end up in the training set\n",
    "not_in_train = train_clust.merge(clusters, how='right', indicator=True, on='cluster')\n",
    "not_in_train = not_in_train[not_in_train['_merge'] == 'right_only']\n",
    "not_in_train = not_in_train.drop(columns='_merge')\n",
    "\n",
    "# Sample from the remaining clusters \n",
    "test_clust = not_in_train.sample(frac=0.5)\n",
    "\n",
    "# Get the remaining clusters, they are the validation set\n",
    "val_clust = test_clust.merge(not_in_train, how='right', indicator=True, on='cluster')\n",
    "val_clust = val_clust[val_clust['_merge'] == 'right_only']\n",
    "val_clust = val_clust.drop(columns='_merge')"
   ]
  },
  {
   "cell_type": "code",
   "execution_count": 25,
   "id": "6ec155e5-4522-4698-9200-347effa24fc4",
   "metadata": {
    "ExecuteTime": {
     "end_time": "2023-09-11T18:09:19.158805884Z",
     "start_time": "2023-09-11T18:09:19.018165295Z"
    }
   },
   "outputs": [
    {
     "name": "stdout",
     "output_type": "stream",
     "text": [
      "Training Dataset Size:\t(252679, 32)\n",
      "Test Dataset Size:\t(19925, 32)\n",
      "Validation Dataset Size:\t(29967, 32)\n",
      "\n",
      "True\n"
     ]
    }
   ],
   "source": [
    "# Now we can merge the actual data onto the cluster groups\n",
    "train_df = train_clust.merge(df, on='cluster', how='inner')\n",
    "test_df = test_clust.merge(df, on='cluster', how='inner')\n",
    "val_df = val_clust.merge(df, on='cluster', how='inner')\n",
    "\n",
    "# Dataset Sizes\n",
    "print(f\"Training Dataset Size:\\t{train_df.shape}\")\n",
    "print(f\"Test Dataset Size:\\t{test_df.shape}\")\n",
    "print(f\"Validation Dataset Size:\\t{val_df.shape}\")\n",
    "print()\n",
    "\n",
    "# If everything worked properly this should evaluate to True\n",
    "print(train_df.shape[0] + test_df.shape[0] + val_df.shape[0] == df.shape[0])"
   ]
  },
  {
   "cell_type": "code",
   "execution_count": null,
   "id": "5797cef5-a429-43df-9367-3c63b5f3d579",
   "metadata": {
    "ExecuteTime": {
     "end_time": "2023-09-11T18:09:19.192330773Z",
     "start_time": "2023-09-11T18:09:19.164242047Z"
    }
   },
   "outputs": [],
   "source": [
    "train_names = train_df.ssm_parent.unique()\n",
    "test_names = test_df.ssm_parent.unique()\n",
    "val_names = val_df.ssm_parent.unique()"
   ]
  },
  {
   "cell_type": "code",
   "execution_count": null,
   "id": "7c8de8a3-1285-4df3-83ea-5ef1a0e8c9be",
   "metadata": {
    "ExecuteTime": {
     "end_time": "2023-09-11T18:09:19.197190520Z",
     "start_time": "2023-09-11T18:09:19.193855628Z"
    }
   },
   "outputs": [],
   "source": [
    "splits = {\n",
    "    'train': train_names,\n",
    "    'val': val_names,\n",
    "    'test': test_names\n",
    "}\n",
    "\n",
    "with open(\"/nas/longleaf/home/oem/Kuhlman-Rotation/ssm_dataset/splits/ssm_splits.pkl\", \"wb\") as fh:\n",
    "    pickle.dump(splits, fh)"
   ]
  },
  {
   "cell_type": "code",
   "execution_count": null,
   "id": "bfb67ee5-a8ad-43e2-9673-c208a209c7bc",
   "metadata": {
    "ExecuteTime": {
     "end_time": "2023-09-11T18:09:25.261757804Z",
     "start_time": "2023-09-11T18:09:19.198012754Z"
    }
   },
   "outputs": [],
   "source": [
    "train_df.to_csv(\"/nas/longleaf/home/oem/Kuhlman-Rotation/ssm_dataset/splits/ssm_train.csv\")\n",
    "test_df.to_csv(\"/nas/longleaf/home/oem/Kuhlman-Rotation/ssm_dataset/splits/ssm_test.csv\")\n",
    "val_df.to_csv(\"/nas/longleaf/home/oem/Kuhlman-Rotation/ssm_dataset/splits/ssm_val.csv\")"
   ]
  }
 ],
 "metadata": {
  "kernelspec": {
   "display_name": "Python 3 (ipykernel)",
   "language": "python",
   "name": "python3"
  },
  "language_info": {
   "codemirror_mode": {
    "name": "ipython",
    "version": 3
   },
   "file_extension": ".py",
   "mimetype": "text/x-python",
   "name": "python",
   "nbconvert_exporter": "python",
   "pygments_lexer": "ipython3",
   "version": "3.10.0"
  }
 },
 "nbformat": 4,
 "nbformat_minor": 5
}
